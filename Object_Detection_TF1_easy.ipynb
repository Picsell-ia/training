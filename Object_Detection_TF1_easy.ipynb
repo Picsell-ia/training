{
 "cells": [
  {
   "cell_type": "markdown",
   "metadata": {},
   "source": [
    "[![Open In Colab](https://colab.research.google.com/assets/colab-badge.svg)](https://colab.research.google.com/github/Picsell-ia/training/blob/master/Object_Detection_TF1_easy.ipynb)"
   ]
  },
  {
   "cell_type": "markdown",
   "metadata": {},
   "source": [
    "In this notebook we define a simple wrapper function of what has been described in the \"Train a custom object detection model with Tensorflow 1\" HOW TO."
   ]
  },
  {
   "cell_type": "code",
   "execution_count": null,
   "metadata": {
    "scrolled": true
   },
   "outputs": [],
   "source": [
    "import sys\n",
    "sys.path.append(\"slim\")\n",
    "from picsellia import Client\n",
    "import picsell_utils\n",
    "import tensorflow as tf\n",
    "\n",
    "def wrapper_function(api_token, project_token, model_name, batch_size, nb_steps, \n",
    "                     learning_rate=None, annotation_type=\"rectangle\"):\n",
    "    \n",
    "    clt = Client(api_token)\n",
    "    clt.checkout_project(project_token=project_token)\n",
    "    clt.checkout_network(model_name)\n",
    "    \n",
    "    clt.train_test_split()\n",
    "    clt.dl_pictures()\n",
    "    \n",
    "\n",
    "    picsell_utils.create_record_files(label_path=clt.label_path, record_dir=clt.record_dir, \n",
    "                                     tfExample_generator=clt.tf_vars_generator, \n",
    "                                      annotation_type=annotation_type)\n",
    "\n",
    "    picsell_utils.edit_config(model_selected=clt.model_selected, \n",
    "                                config_output_dir=clt.config_dir,\n",
    "                                record_dir=clt.record_dir, \n",
    "                                label_map_path=clt.label_path, \n",
    "                                num_steps=nb_steps,\n",
    "                                batch_size=batch_size, \n",
    "                                learning_rate=learning_rate,\n",
    "                                annotation_type=annotation_type,\n",
    "                                eval_number=len(clt.eval_list))\n",
    "    \n",
    "    picsell_utils.train(ckpt_dir=clt.checkpoint_dir, \n",
    "                     conf_dir=clt.config_dir)\n",
    "    \n",
    "    dict_log = picsell_utils.tfevents_to_dict(path=clt.checkpoint_dir)\n",
    "    \n",
    "    metrics = picsell_utils.evaluate(clt.metrics_dir, clt.config_dir, clt.checkpoint_dir)\n",
    "    \n",
    "    picsell_utils.export_infer_graph(ckpt_dir=clt.checkpoint_dir, \n",
    "                       exported_model_dir=clt.exported_model_dir, \n",
    "                       pipeline_config_path=clt.config_dir)\n",
    "    \n",
    "    picsell_utils.infer(clt.record_dir, \n",
    "                        exported_model_dir=clt.exported_model_dir, \n",
    "                        label_map_path=clt.label_path, \n",
    "                        results_dir=clt.results_dir)\n",
    "\n",
    "    clt.send_everything(dict_log, metrics)"
   ]
  },
  {
   "cell_type": "code",
   "execution_count": null,
   "metadata": {
    "scrolled": false
   },
   "outputs": [],
   "source": [
    "api_token = \"your_api_token\"\n",
    "project_token = \"your_project_token\" \n",
    "model_name = \"your_model_name\"\n",
    "\n",
    "wrapper_function(api_token, project_token, model_name,\n",
    "                 batch_size=10, nb_steps=1000)"
   ]
  }
 ],
 "metadata": {
  "kernelspec": {
   "display_name": "Environment (conda_tensorflow_p36)",
   "language": "python",
   "name": "conda_tensorflow_p36"
  },
  "language_info": {
   "codemirror_mode": {
    "name": "ipython",
    "version": 3
   },
   "file_extension": ".py",
   "mimetype": "text/x-python",
   "name": "python",
   "nbconvert_exporter": "python",
   "pygments_lexer": "ipython3",
   "version": "3.6.10"
  }
 },
 "nbformat": 4,
 "nbformat_minor": 4
}