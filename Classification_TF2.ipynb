{
 "cells": [
  {
   "cell_type": "markdown",
   "metadata": {},
   "source": [
    "[![Open In Colab](https://colab.research.google.com/assets/colab-badge.svg)](https://colab.research.google.com/github/BouleJaune/picselliaT/blob/master/Classification_TF2.ipynb)"
   ]
  },
  {
   "cell_type": "code",
   "execution_count": null,
   "metadata": {},
   "outputs": [],
   "source": [
    "!pip install picsellia"
   ]
  },
  {
   "cell_type": "markdown",
   "metadata": {},
   "source": [
    "# Setting up your Picsell client\n",
    "\n",
    "First let's impor Tensorflow and the Picsell.ia sdk"
   ]
  },
  {
   "cell_type": "code",
   "execution_count": 1,
   "metadata": {},
   "outputs": [],
   "source": [
    "import tensorflow as tf\n",
    "from picsellia import Client\n",
    "import os"
   ]
  },
  {
   "cell_type": "markdown",
   "metadata": {},
   "source": [
    "Let's set the name to your soon to come classification model and put your tokens here:"
   ]
  },
  {
   "cell_type": "code",
   "execution_count": 4,
   "metadata": {},
   "outputs": [],
   "source": [
    "api_token = \"5890ad3e6a9701cd123ef91b69ad396de8c2d20a\"\n",
    "project_token = \"05a91847-53a6-4b29-9014-d372d11836c7\" \n",
    "model_name = \"Classification_COVID_Masks\""
   ]
  },
  {
   "cell_type": "markdown",
   "metadata": {},
   "source": [
    "Now we need to initialize our client so we can communicate with the platform. "
   ]
  },
  {
   "cell_type": "code",
   "execution_count": 6,
   "metadata": {},
   "outputs": [
    {
     "name": "stdout",
     "output_type": "stream",
     "text": [
      "Welcome Xenio3, Glad to have you back\n",
      "{'network_id': '52a29433-286b-4050-8f2a-93ac37df5d14', 'training_id': 0, 'checkpoints': {}}\n",
      "First time using Picsell.ia on this project, initializing directories ...\n",
      "Creating directory for project mask-classification/Classification_COVID_Masks/0\n",
      "Creating directory for PNG Images of project mask-classification/Classification_COVID_Masks/0\n",
      "Creating directory for checkpoints project mask-classification/Classification_COVID_Masks/0\n",
      "Creating directory for logs of project mask-classification/Classification_COVID_Masks/0/metrics\n",
      "Creating directory for records of project mask-classification/Classification_COVID_Masks/0\n",
      "Creating directory for config of project mask-classification/Classification_COVID_Masks/0\n",
      "Creating directory for results of project mask-classification/Classification_COVID_Masks/0/results\n",
      "New Network have been created\n"
     ]
    }
   ],
   "source": [
    "clt = Client(api_token=api_token)\n",
    "clt.checkout_project(project_token=project_token)\n",
    "clt.create_network(model_name)"
   ]
  },
  {
   "cell_type": "markdown",
   "metadata": {},
   "source": [
    "Once the instance is created we can download the images and annotations and generate a label map.\n",
    "The label map is just here to map the string value of the label to a more convenient label id.\n",
    "\n",
    "The ```train_test_split()``` method is smartly splitting our data in two sets.  "
   ]
  },
  {
   "cell_type": "code",
   "execution_count": 7,
   "metadata": {},
   "outputs": [
    {
     "name": "stdout",
     "output_type": "stream",
     "text": [
      "Downloading annotations of project 05a91847-53a6-4b29-9014-d372d11836c7 ...\n",
      "Annotations pulled ...\n",
      "Generating labelmap ...\n",
      "Label_map.pbtxt crée @ mask-classification/Classification_COVID_Masks/0/label_map.pbtxt\n",
      "90 Images used for training, 23 Images used for validation\n",
      "Repartition send ..\n",
      "Downloading PNG images to your machine ...\n",
      "[==================================================]0 files were already on your machine\n",
      " 113 PNG images have been downloaded to your machine\n"
     ]
    }
   ],
   "source": [
    "clt.dl_annotations()\n",
    "clt.generate_labelmap()\n",
    "clt.train_test_split()\n",
    "clt.dl_pictures()"
   ]
  },
  {
   "cell_type": "markdown",
   "metadata": {},
   "source": [
    "# Data pre-processing\n",
    "\n",
    "## Converting data into serialized TFRecord files\n",
    "\n",
    "We want to serialize those images and labels inside a ```TFRecord``` format file. By doing so the data will be way more efficiently read by tensorflow. \n",
    "\n",
    "In order to do this we need to generate a ```tf.Example``` for each image which stores the image and its label as a protobuf, then we serialize and write those ```tf.Example``` objects inside the ```TFRecord``` file.\n",
    "\n",
    "First we create some shortcut functions to wrap the features messages. Those functions convert standard TensorFlow types to a ```tf.Example```-compatible ```tf.train.Feature``` object. In our case we just want to store the encoded image and the label id."
   ]
  },
  {
   "cell_type": "code",
   "execution_count": 8,
   "metadata": {},
   "outputs": [],
   "source": [
    "def _int64_feature(value):\n",
    "    return tf.train.Feature(int64_list=tf.train.Int64List(value=[value]))\n",
    "\n",
    "def _bytes_feature(value):\n",
    "    return tf.train.Feature(bytes_list=tf.train.BytesList(value=[value]))"
   ]
  },
  {
   "cell_type": "markdown",
   "metadata": {},
   "source": [
    "We can create our .record files from there. \n",
    "\n",
    "To do so, we define a new function which will iterate for each set through each image and generate a ```tf.Example``` message that we'll write inside our file. \n",
    "\n",
    "We use the ```clt.tf_vars_generator``` method from the sdk to retrieve the data before converting them into the ```tf.Example``` message."
   ]
  },
  {
   "cell_type": "code",
   "execution_count": 16,
   "metadata": {},
   "outputs": [
    {
     "name": "stdout",
     "output_type": "stream",
     "text": [
      "Successfully created the TFRecords: mask-classification/Classification_COVID_Masks/0/records/train.record\n",
      "Successfully created the TFRecords: mask-classification/Classification_COVID_Masks/0/records/eval.record\n"
     ]
    }
   ],
   "source": [
    "def create_record_files(label_map, record_dir, tfExample_generator):\n",
    "    datasets = [\"train\", \"eval\"]    \n",
    "    for dataset in datasets:\n",
    "        output_path = os.path.join(record_dir, dataset+\".record\")\n",
    "        writer = tf.io.TFRecordWriter(output_path)\n",
    "        for variables in tfExample_generator(label_map, ensemble=dataset, annotation_type=\"classification\"):\n",
    "            (width, height, filename, encoded_jpg, image_format, \n",
    "                classes_text, classes) = variables\n",
    "\n",
    "            tf_example = tf.train.Example(features=tf.train.Features(feature={\n",
    "                'image/encoded': _bytes_feature(encoded_jpg),\n",
    "                'image/object/class/label': _int64_feature(classes[0]-1)\n",
    "                }))\n",
    "            writer.write(tf_example.SerializeToString())\n",
    "    \n",
    "        writer.close()\n",
    "        print('Successfully created the TFRecords: {}'.format(output_path))\n",
    "\n",
    "label_map = {v:int(k) for k,v in clt.label_map.items()}\n",
    "create_record_files(label_map=label_map, record_dir=clt.record_dir, \n",
    "                    tfExample_generator=clt.tf_vars_generator)"
   ]
  },
  {
   "cell_type": "markdown",
   "metadata": {},
   "source": [
    "## Building our input pipeline\n",
    "\n",
    "Now that our data are saved in an efficient format we want to load them as a ```tf.Data.Dataset``` object.\n",
    "\n",
    "We have to define a feature_description dictionnary that follows the same structure as the one used to generate the ```tf.Example```.\n",
    " With this dictionnary we can define a parser for the ```tf.Example```"
   ]
  },
  {
   "cell_type": "code",
   "execution_count": 17,
   "metadata": {},
   "outputs": [],
   "source": [
    "feature_description = {\n",
    "      'image/encoded': tf.io.FixedLenFeature([], tf.string),\n",
    "      'image/object/class/label': tf.io.FixedLenFeature([], tf.int64, default_value=0)}\n",
    "\n",
    "def _parse_function(example_proto):\n",
    "  # Parse the input `tf.Example` proto using the dictionary above.\n",
    "    return tf.io.parse_single_example(example_proto, feature_description)"
   ]
  },
  {
   "cell_type": "markdown",
   "metadata": {},
   "source": [
    "Let's create the ```tf.Data.dataset``` objects now by mapping the parser to the raw datasets !"
   ]
  },
  {
   "cell_type": "code",
   "execution_count": 18,
   "metadata": {},
   "outputs": [],
   "source": [
    "raw_dataset = tf.data.TFRecordDataset(os.path.join(clt.record_dir,\"train.record\"))\n",
    "train_dataset = raw_dataset.map(_parse_function)\n",
    "\n",
    "raw_dataset = tf.data.TFRecordDataset(os.path.join(clt.record_dir,\"eval.record\"))\n",
    "eval_dataset = raw_dataset.map(_parse_function)"
   ]
  },
  {
   "cell_type": "markdown",
   "metadata": {},
   "source": [
    "Now that we have our dataset objects we want to do some pre-processing on them. \n",
    "\n",
    "For the label we will simply one_hot encode them. The images require a bit more attention. We will decode them, then resize them according to the size of the mobilenet_v2 model base input. Then we'll use the quite convenient ```mobilenet_v2.preprocess_input()``` function that cast the type to ```tf.float32``` and scale the pixels between -1 and 1."
   ]
  },
  {
   "cell_type": "code",
   "execution_count": 19,
   "metadata": {},
   "outputs": [],
   "source": [
    "from tensorflow.keras.applications.mobilenet_v2 import preprocess_input\n",
    "\n",
    "def map_img_label(example_proto):\n",
    "    img = tf.io.decode_jpeg(example_proto[\"image/encoded\"], channels=3)\n",
    "    img = tf.image.resize(img, (224,224))\n",
    "    img = tf.keras.applications.mobilenet_v2.preprocess_input(img)\n",
    "    label = example_proto[\"image/object/class/label\"]\n",
    "    label = tf.one_hot(label, depth=2)\n",
    "    return (img,label)\n",
    "    \n",
    "train_set = train_dataset.map(map_img_label)\n",
    "eval_set = eval_dataset.map(map_img_label)"
   ]
  },
  {
   "cell_type": "markdown",
   "metadata": {},
   "source": [
    "Now we want to shuffle and batch our datasets. With a ```tf.Data.dataset``` it's fairly simple. We just need to apply the corresponding method with some arguments, namely the batch size and the buffer size for the shuffling.\n",
    "\n",
    "We define some arbitrary values then apply the methods to our datasets. We do not use the ```repeat()``` method of a dataset because we want our epoch to end when the whole dataset is exhausted. \n",
    "\n",
    "If we added this method to both datasets, we would need to pass a ```steps_per_epoch``` and ``validation_steps`` to the ``fit`` method of our model when starting the training. Indeed, Tensorflow would not be able to know when to stop an epoch since the dataset will be infinitely repeating itself. \n",
    "\n",
    "At this stage we could add some data augmentation by mapping functions to the dataset. However we will not do it in this guide."
   ]
  },
  {
   "cell_type": "code",
   "execution_count": 20,
   "metadata": {},
   "outputs": [],
   "source": [
    "BATCH_SIZE = 16\n",
    "SHUFFLE_BUFFER_SIZE = 50\n",
    "\n",
    "train_set = train_set.shuffle(SHUFFLE_BUFFER_SIZE).batch(BATCH_SIZE)\n",
    "eval_set = eval_set.batch(BATCH_SIZE)"
   ]
  },
  {
   "cell_type": "markdown",
   "metadata": {},
   "source": [
    "# Model creation and training\n",
    "\n",
    "## Model definition\n",
    "\n",
    "Now that our input pipeline is built it's time to define our model. As said earlier we are going to do some transfer learning on the MobileNetV2 model. First let's import some keras functions and the MobileNetV2 model."
   ]
  },
  {
   "cell_type": "code",
   "execution_count": 21,
   "metadata": {},
   "outputs": [],
   "source": [
    "from tensorflow.keras.applications import MobileNetV2\n",
    "from tensorflow.keras.layers import AveragePooling2D\n",
    "from tensorflow.keras.layers import Dropout\n",
    "from tensorflow.keras.layers import Flatten\n",
    "from tensorflow.keras.layers import Dense\n",
    "from tensorflow.keras.layers import Input\n",
    "from tensorflow.keras.models import Model"
   ]
  },
  {
   "cell_type": "markdown",
   "metadata": {},
   "source": [
    "Our model will be made up of two sub-models. The first part will be the MobileNetV2 model with all of its layers frozen and we will plug on top of it a little headModel defined below."
   ]
  },
  {
   "cell_type": "code",
   "execution_count": 22,
   "metadata": {},
   "outputs": [
    {
     "name": "stderr",
     "output_type": "stream",
     "text": [
      "/home/ubuntu/anaconda3/envs/tensorflow2_p36/lib/python3.6/site-packages/keras_applications/mobilenet_v2.py:294: UserWarning: `input_shape` is undefined or non-square, or `rows` is not in [96, 128, 160, 192, 224]. Weights for input shape (224, 224) will be loaded as the default.\n",
      "  warnings.warn('`input_shape` is undefined or non-square, '\n"
     ]
    },
    {
     "name": "stdout",
     "output_type": "stream",
     "text": [
      "Downloading data from https://github.com/JonathanCMitchell/mobilenet_v2_keras/releases/download/v1.1/mobilenet_v2_weights_tf_dim_ordering_tf_kernels_1.0_224_no_top.h5\n",
      "9412608/9406464 [==============================] - 0s 0us/step\n"
     ]
    }
   ],
   "source": [
    "baseModel = MobileNetV2(weights=\"imagenet\", include_top=False,\n",
    "    input_tensor=Input(shape=(224, 224, 3)))\n",
    "\n",
    "headModel = baseModel.output\n",
    "headModel = AveragePooling2D(pool_size=(7, 7))(headModel)\n",
    "headModel = Flatten(name=\"flatten\")(headModel)\n",
    "headModel = Dense(128, activation=\"relu\")(headModel)\n",
    "headModel = Dropout(0.5)(headModel)\n",
    "headModel = Dense(2, activation=\"softmax\")(headModel)\n",
    "model = Model(inputs = baseModel.input, outputs = headModel)\n",
    "for layer in baseModel.layers:\n",
    "    layer.trainable = False"
   ]
  },
  {
   "cell_type": "markdown",
   "metadata": {},
   "source": [
    "We can print the summary of our model and see all the different layers as well as the number of trainable/non-trainable parameters."
   ]
  },
  {
   "cell_type": "code",
   "execution_count": 23,
   "metadata": {},
   "outputs": [
    {
     "name": "stdout",
     "output_type": "stream",
     "text": [
      "Model: \"model\"\n",
      "__________________________________________________________________________________________________\n",
      "Layer (type)                    Output Shape         Param #     Connected to                     \n",
      "==================================================================================================\n",
      "input_1 (InputLayer)            [(None, 224, 224, 3) 0                                            \n",
      "__________________________________________________________________________________________________\n",
      "Conv1_pad (ZeroPadding2D)       (None, 225, 225, 3)  0           input_1[0][0]                    \n",
      "__________________________________________________________________________________________________\n",
      "Conv1 (Conv2D)                  (None, 112, 112, 32) 864         Conv1_pad[0][0]                  \n",
      "__________________________________________________________________________________________________\n",
      "bn_Conv1 (BatchNormalization)   (None, 112, 112, 32) 128         Conv1[0][0]                      \n",
      "__________________________________________________________________________________________________\n",
      "Conv1_relu (ReLU)               (None, 112, 112, 32) 0           bn_Conv1[0][0]                   \n",
      "__________________________________________________________________________________________________\n",
      "expanded_conv_depthwise (Depthw (None, 112, 112, 32) 288         Conv1_relu[0][0]                 \n",
      "__________________________________________________________________________________________________\n",
      "expanded_conv_depthwise_BN (Bat (None, 112, 112, 32) 128         expanded_conv_depthwise[0][0]    \n",
      "__________________________________________________________________________________________________\n",
      "expanded_conv_depthwise_relu (R (None, 112, 112, 32) 0           expanded_conv_depthwise_BN[0][0] \n",
      "__________________________________________________________________________________________________\n",
      "expanded_conv_project (Conv2D)  (None, 112, 112, 16) 512         expanded_conv_depthwise_relu[0][0\n",
      "__________________________________________________________________________________________________\n",
      "expanded_conv_project_BN (Batch (None, 112, 112, 16) 64          expanded_conv_project[0][0]      \n",
      "__________________________________________________________________________________________________\n",
      "block_1_expand (Conv2D)         (None, 112, 112, 96) 1536        expanded_conv_project_BN[0][0]   \n",
      "__________________________________________________________________________________________________\n",
      "block_1_expand_BN (BatchNormali (None, 112, 112, 96) 384         block_1_expand[0][0]             \n",
      "__________________________________________________________________________________________________\n",
      "block_1_expand_relu (ReLU)      (None, 112, 112, 96) 0           block_1_expand_BN[0][0]          \n",
      "__________________________________________________________________________________________________\n",
      "block_1_pad (ZeroPadding2D)     (None, 113, 113, 96) 0           block_1_expand_relu[0][0]        \n",
      "__________________________________________________________________________________________________\n",
      "block_1_depthwise (DepthwiseCon (None, 56, 56, 96)   864         block_1_pad[0][0]                \n",
      "__________________________________________________________________________________________________\n",
      "block_1_depthwise_BN (BatchNorm (None, 56, 56, 96)   384         block_1_depthwise[0][0]          \n",
      "__________________________________________________________________________________________________\n",
      "block_1_depthwise_relu (ReLU)   (None, 56, 56, 96)   0           block_1_depthwise_BN[0][0]       \n",
      "__________________________________________________________________________________________________\n",
      "block_1_project (Conv2D)        (None, 56, 56, 24)   2304        block_1_depthwise_relu[0][0]     \n",
      "__________________________________________________________________________________________________\n",
      "block_1_project_BN (BatchNormal (None, 56, 56, 24)   96          block_1_project[0][0]            \n",
      "__________________________________________________________________________________________________\n",
      "block_2_expand (Conv2D)         (None, 56, 56, 144)  3456        block_1_project_BN[0][0]         \n",
      "__________________________________________________________________________________________________\n",
      "block_2_expand_BN (BatchNormali (None, 56, 56, 144)  576         block_2_expand[0][0]             \n",
      "__________________________________________________________________________________________________\n",
      "block_2_expand_relu (ReLU)      (None, 56, 56, 144)  0           block_2_expand_BN[0][0]          \n",
      "__________________________________________________________________________________________________\n",
      "block_2_depthwise (DepthwiseCon (None, 56, 56, 144)  1296        block_2_expand_relu[0][0]        \n",
      "__________________________________________________________________________________________________\n",
      "block_2_depthwise_BN (BatchNorm (None, 56, 56, 144)  576         block_2_depthwise[0][0]          \n",
      "__________________________________________________________________________________________________\n",
      "block_2_depthwise_relu (ReLU)   (None, 56, 56, 144)  0           block_2_depthwise_BN[0][0]       \n",
      "__________________________________________________________________________________________________\n",
      "block_2_project (Conv2D)        (None, 56, 56, 24)   3456        block_2_depthwise_relu[0][0]     \n",
      "__________________________________________________________________________________________________\n",
      "block_2_project_BN (BatchNormal (None, 56, 56, 24)   96          block_2_project[0][0]            \n",
      "__________________________________________________________________________________________________\n",
      "block_2_add (Add)               (None, 56, 56, 24)   0           block_1_project_BN[0][0]         \n",
      "                                                                 block_2_project_BN[0][0]         \n",
      "__________________________________________________________________________________________________\n",
      "block_3_expand (Conv2D)         (None, 56, 56, 144)  3456        block_2_add[0][0]                \n",
      "__________________________________________________________________________________________________\n",
      "block_3_expand_BN (BatchNormali (None, 56, 56, 144)  576         block_3_expand[0][0]             \n",
      "__________________________________________________________________________________________________\n",
      "block_3_expand_relu (ReLU)      (None, 56, 56, 144)  0           block_3_expand_BN[0][0]          \n",
      "__________________________________________________________________________________________________\n",
      "block_3_pad (ZeroPadding2D)     (None, 57, 57, 144)  0           block_3_expand_relu[0][0]        \n",
      "__________________________________________________________________________________________________\n",
      "block_3_depthwise (DepthwiseCon (None, 28, 28, 144)  1296        block_3_pad[0][0]                \n",
      "__________________________________________________________________________________________________\n",
      "block_3_depthwise_BN (BatchNorm (None, 28, 28, 144)  576         block_3_depthwise[0][0]          \n",
      "__________________________________________________________________________________________________\n",
      "block_3_depthwise_relu (ReLU)   (None, 28, 28, 144)  0           block_3_depthwise_BN[0][0]       \n",
      "__________________________________________________________________________________________________\n",
      "block_3_project (Conv2D)        (None, 28, 28, 32)   4608        block_3_depthwise_relu[0][0]     \n",
      "__________________________________________________________________________________________________\n",
      "block_3_project_BN (BatchNormal (None, 28, 28, 32)   128         block_3_project[0][0]            \n",
      "__________________________________________________________________________________________________\n",
      "block_4_expand (Conv2D)         (None, 28, 28, 192)  6144        block_3_project_BN[0][0]         \n",
      "__________________________________________________________________________________________________\n",
      "block_4_expand_BN (BatchNormali (None, 28, 28, 192)  768         block_4_expand[0][0]             \n",
      "__________________________________________________________________________________________________\n",
      "block_4_expand_relu (ReLU)      (None, 28, 28, 192)  0           block_4_expand_BN[0][0]          \n",
      "__________________________________________________________________________________________________\n",
      "block_4_depthwise (DepthwiseCon (None, 28, 28, 192)  1728        block_4_expand_relu[0][0]        \n",
      "__________________________________________________________________________________________________\n",
      "block_4_depthwise_BN (BatchNorm (None, 28, 28, 192)  768         block_4_depthwise[0][0]          \n",
      "__________________________________________________________________________________________________\n",
      "block_4_depthwise_relu (ReLU)   (None, 28, 28, 192)  0           block_4_depthwise_BN[0][0]       \n",
      "__________________________________________________________________________________________________\n",
      "block_4_project (Conv2D)        (None, 28, 28, 32)   6144        block_4_depthwise_relu[0][0]     \n",
      "__________________________________________________________________________________________________\n",
      "block_4_project_BN (BatchNormal (None, 28, 28, 32)   128         block_4_project[0][0]            \n",
      "__________________________________________________________________________________________________\n",
      "block_4_add (Add)               (None, 28, 28, 32)   0           block_3_project_BN[0][0]         \n",
      "                                                                 block_4_project_BN[0][0]         \n",
      "__________________________________________________________________________________________________\n",
      "block_5_expand (Conv2D)         (None, 28, 28, 192)  6144        block_4_add[0][0]                \n",
      "__________________________________________________________________________________________________\n",
      "block_5_expand_BN (BatchNormali (None, 28, 28, 192)  768         block_5_expand[0][0]             \n",
      "__________________________________________________________________________________________________\n",
      "block_5_expand_relu (ReLU)      (None, 28, 28, 192)  0           block_5_expand_BN[0][0]          \n",
      "__________________________________________________________________________________________________\n",
      "block_5_depthwise (DepthwiseCon (None, 28, 28, 192)  1728        block_5_expand_relu[0][0]        \n",
      "__________________________________________________________________________________________________\n",
      "block_5_depthwise_BN (BatchNorm (None, 28, 28, 192)  768         block_5_depthwise[0][0]          \n",
      "__________________________________________________________________________________________________\n",
      "block_5_depthwise_relu (ReLU)   (None, 28, 28, 192)  0           block_5_depthwise_BN[0][0]       \n",
      "__________________________________________________________________________________________________\n",
      "block_5_project (Conv2D)        (None, 28, 28, 32)   6144        block_5_depthwise_relu[0][0]     \n",
      "__________________________________________________________________________________________________\n",
      "block_5_project_BN (BatchNormal (None, 28, 28, 32)   128         block_5_project[0][0]            \n",
      "__________________________________________________________________________________________________\n",
      "block_5_add (Add)               (None, 28, 28, 32)   0           block_4_add[0][0]                \n",
      "                                                                 block_5_project_BN[0][0]         \n",
      "__________________________________________________________________________________________________\n",
      "block_6_expand (Conv2D)         (None, 28, 28, 192)  6144        block_5_add[0][0]                \n",
      "__________________________________________________________________________________________________\n",
      "block_6_expand_BN (BatchNormali (None, 28, 28, 192)  768         block_6_expand[0][0]             \n",
      "__________________________________________________________________________________________________\n",
      "block_6_expand_relu (ReLU)      (None, 28, 28, 192)  0           block_6_expand_BN[0][0]          \n",
      "__________________________________________________________________________________________________\n",
      "block_6_pad (ZeroPadding2D)     (None, 29, 29, 192)  0           block_6_expand_relu[0][0]        \n",
      "__________________________________________________________________________________________________\n",
      "block_6_depthwise (DepthwiseCon (None, 14, 14, 192)  1728        block_6_pad[0][0]                \n",
      "__________________________________________________________________________________________________\n",
      "block_6_depthwise_BN (BatchNorm (None, 14, 14, 192)  768         block_6_depthwise[0][0]          \n",
      "__________________________________________________________________________________________________\n",
      "block_6_depthwise_relu (ReLU)   (None, 14, 14, 192)  0           block_6_depthwise_BN[0][0]       \n",
      "__________________________________________________________________________________________________\n",
      "block_6_project (Conv2D)        (None, 14, 14, 64)   12288       block_6_depthwise_relu[0][0]     \n",
      "__________________________________________________________________________________________________\n",
      "block_6_project_BN (BatchNormal (None, 14, 14, 64)   256         block_6_project[0][0]            \n",
      "__________________________________________________________________________________________________\n",
      "block_7_expand (Conv2D)         (None, 14, 14, 384)  24576       block_6_project_BN[0][0]         \n",
      "__________________________________________________________________________________________________\n",
      "block_7_expand_BN (BatchNormali (None, 14, 14, 384)  1536        block_7_expand[0][0]             \n",
      "__________________________________________________________________________________________________\n",
      "block_7_expand_relu (ReLU)      (None, 14, 14, 384)  0           block_7_expand_BN[0][0]          \n",
      "__________________________________________________________________________________________________\n",
      "block_7_depthwise (DepthwiseCon (None, 14, 14, 384)  3456        block_7_expand_relu[0][0]        \n",
      "__________________________________________________________________________________________________\n",
      "block_7_depthwise_BN (BatchNorm (None, 14, 14, 384)  1536        block_7_depthwise[0][0]          \n",
      "__________________________________________________________________________________________________\n",
      "block_7_depthwise_relu (ReLU)   (None, 14, 14, 384)  0           block_7_depthwise_BN[0][0]       \n",
      "__________________________________________________________________________________________________\n",
      "block_7_project (Conv2D)        (None, 14, 14, 64)   24576       block_7_depthwise_relu[0][0]     \n",
      "__________________________________________________________________________________________________\n",
      "block_7_project_BN (BatchNormal (None, 14, 14, 64)   256         block_7_project[0][0]            \n",
      "__________________________________________________________________________________________________\n",
      "block_7_add (Add)               (None, 14, 14, 64)   0           block_6_project_BN[0][0]         \n",
      "                                                                 block_7_project_BN[0][0]         \n",
      "__________________________________________________________________________________________________\n",
      "block_8_expand (Conv2D)         (None, 14, 14, 384)  24576       block_7_add[0][0]                \n",
      "__________________________________________________________________________________________________\n",
      "block_8_expand_BN (BatchNormali (None, 14, 14, 384)  1536        block_8_expand[0][0]             \n",
      "__________________________________________________________________________________________________\n",
      "block_8_expand_relu (ReLU)      (None, 14, 14, 384)  0           block_8_expand_BN[0][0]          \n",
      "__________________________________________________________________________________________________\n",
      "block_8_depthwise (DepthwiseCon (None, 14, 14, 384)  3456        block_8_expand_relu[0][0]        \n",
      "__________________________________________________________________________________________________\n",
      "block_8_depthwise_BN (BatchNorm (None, 14, 14, 384)  1536        block_8_depthwise[0][0]          \n",
      "__________________________________________________________________________________________________\n",
      "block_8_depthwise_relu (ReLU)   (None, 14, 14, 384)  0           block_8_depthwise_BN[0][0]       \n",
      "__________________________________________________________________________________________________\n",
      "block_8_project (Conv2D)        (None, 14, 14, 64)   24576       block_8_depthwise_relu[0][0]     \n",
      "__________________________________________________________________________________________________\n",
      "block_8_project_BN (BatchNormal (None, 14, 14, 64)   256         block_8_project[0][0]            \n",
      "__________________________________________________________________________________________________\n",
      "block_8_add (Add)               (None, 14, 14, 64)   0           block_7_add[0][0]                \n",
      "                                                                 block_8_project_BN[0][0]         \n",
      "__________________________________________________________________________________________________\n",
      "block_9_expand (Conv2D)         (None, 14, 14, 384)  24576       block_8_add[0][0]                \n",
      "__________________________________________________________________________________________________\n",
      "block_9_expand_BN (BatchNormali (None, 14, 14, 384)  1536        block_9_expand[0][0]             \n",
      "__________________________________________________________________________________________________\n",
      "block_9_expand_relu (ReLU)      (None, 14, 14, 384)  0           block_9_expand_BN[0][0]          \n",
      "__________________________________________________________________________________________________\n",
      "block_9_depthwise (DepthwiseCon (None, 14, 14, 384)  3456        block_9_expand_relu[0][0]        \n",
      "__________________________________________________________________________________________________\n",
      "block_9_depthwise_BN (BatchNorm (None, 14, 14, 384)  1536        block_9_depthwise[0][0]          \n",
      "__________________________________________________________________________________________________\n",
      "block_9_depthwise_relu (ReLU)   (None, 14, 14, 384)  0           block_9_depthwise_BN[0][0]       \n",
      "__________________________________________________________________________________________________\n",
      "block_9_project (Conv2D)        (None, 14, 14, 64)   24576       block_9_depthwise_relu[0][0]     \n",
      "__________________________________________________________________________________________________\n",
      "block_9_project_BN (BatchNormal (None, 14, 14, 64)   256         block_9_project[0][0]            \n",
      "__________________________________________________________________________________________________\n",
      "block_9_add (Add)               (None, 14, 14, 64)   0           block_8_add[0][0]                \n",
      "                                                                 block_9_project_BN[0][0]         \n",
      "__________________________________________________________________________________________________\n",
      "block_10_expand (Conv2D)        (None, 14, 14, 384)  24576       block_9_add[0][0]                \n",
      "__________________________________________________________________________________________________\n",
      "block_10_expand_BN (BatchNormal (None, 14, 14, 384)  1536        block_10_expand[0][0]            \n",
      "__________________________________________________________________________________________________\n",
      "block_10_expand_relu (ReLU)     (None, 14, 14, 384)  0           block_10_expand_BN[0][0]         \n",
      "__________________________________________________________________________________________________\n",
      "block_10_depthwise (DepthwiseCo (None, 14, 14, 384)  3456        block_10_expand_relu[0][0]       \n",
      "__________________________________________________________________________________________________\n",
      "block_10_depthwise_BN (BatchNor (None, 14, 14, 384)  1536        block_10_depthwise[0][0]         \n",
      "__________________________________________________________________________________________________\n",
      "block_10_depthwise_relu (ReLU)  (None, 14, 14, 384)  0           block_10_depthwise_BN[0][0]      \n",
      "__________________________________________________________________________________________________\n",
      "block_10_project (Conv2D)       (None, 14, 14, 96)   36864       block_10_depthwise_relu[0][0]    \n",
      "__________________________________________________________________________________________________\n",
      "block_10_project_BN (BatchNorma (None, 14, 14, 96)   384         block_10_project[0][0]           \n",
      "__________________________________________________________________________________________________\n",
      "block_11_expand (Conv2D)        (None, 14, 14, 576)  55296       block_10_project_BN[0][0]        \n",
      "__________________________________________________________________________________________________\n",
      "block_11_expand_BN (BatchNormal (None, 14, 14, 576)  2304        block_11_expand[0][0]            \n",
      "__________________________________________________________________________________________________\n",
      "block_11_expand_relu (ReLU)     (None, 14, 14, 576)  0           block_11_expand_BN[0][0]         \n",
      "__________________________________________________________________________________________________\n",
      "block_11_depthwise (DepthwiseCo (None, 14, 14, 576)  5184        block_11_expand_relu[0][0]       \n",
      "__________________________________________________________________________________________________\n",
      "block_11_depthwise_BN (BatchNor (None, 14, 14, 576)  2304        block_11_depthwise[0][0]         \n",
      "__________________________________________________________________________________________________\n",
      "block_11_depthwise_relu (ReLU)  (None, 14, 14, 576)  0           block_11_depthwise_BN[0][0]      \n",
      "__________________________________________________________________________________________________\n",
      "block_11_project (Conv2D)       (None, 14, 14, 96)   55296       block_11_depthwise_relu[0][0]    \n",
      "__________________________________________________________________________________________________\n",
      "block_11_project_BN (BatchNorma (None, 14, 14, 96)   384         block_11_project[0][0]           \n",
      "__________________________________________________________________________________________________\n",
      "block_11_add (Add)              (None, 14, 14, 96)   0           block_10_project_BN[0][0]        \n",
      "                                                                 block_11_project_BN[0][0]        \n",
      "__________________________________________________________________________________________________\n",
      "block_12_expand (Conv2D)        (None, 14, 14, 576)  55296       block_11_add[0][0]               \n",
      "__________________________________________________________________________________________________\n",
      "block_12_expand_BN (BatchNormal (None, 14, 14, 576)  2304        block_12_expand[0][0]            \n",
      "__________________________________________________________________________________________________\n",
      "block_12_expand_relu (ReLU)     (None, 14, 14, 576)  0           block_12_expand_BN[0][0]         \n",
      "__________________________________________________________________________________________________\n",
      "block_12_depthwise (DepthwiseCo (None, 14, 14, 576)  5184        block_12_expand_relu[0][0]       \n",
      "__________________________________________________________________________________________________\n",
      "block_12_depthwise_BN (BatchNor (None, 14, 14, 576)  2304        block_12_depthwise[0][0]         \n",
      "__________________________________________________________________________________________________\n",
      "block_12_depthwise_relu (ReLU)  (None, 14, 14, 576)  0           block_12_depthwise_BN[0][0]      \n",
      "__________________________________________________________________________________________________\n",
      "block_12_project (Conv2D)       (None, 14, 14, 96)   55296       block_12_depthwise_relu[0][0]    \n",
      "__________________________________________________________________________________________________\n",
      "block_12_project_BN (BatchNorma (None, 14, 14, 96)   384         block_12_project[0][0]           \n",
      "__________________________________________________________________________________________________\n",
      "block_12_add (Add)              (None, 14, 14, 96)   0           block_11_add[0][0]               \n",
      "                                                                 block_12_project_BN[0][0]        \n",
      "__________________________________________________________________________________________________\n",
      "block_13_expand (Conv2D)        (None, 14, 14, 576)  55296       block_12_add[0][0]               \n",
      "__________________________________________________________________________________________________\n",
      "block_13_expand_BN (BatchNormal (None, 14, 14, 576)  2304        block_13_expand[0][0]            \n",
      "__________________________________________________________________________________________________\n",
      "block_13_expand_relu (ReLU)     (None, 14, 14, 576)  0           block_13_expand_BN[0][0]         \n",
      "__________________________________________________________________________________________________\n",
      "block_13_pad (ZeroPadding2D)    (None, 15, 15, 576)  0           block_13_expand_relu[0][0]       \n",
      "__________________________________________________________________________________________________\n",
      "block_13_depthwise (DepthwiseCo (None, 7, 7, 576)    5184        block_13_pad[0][0]               \n",
      "__________________________________________________________________________________________________\n",
      "block_13_depthwise_BN (BatchNor (None, 7, 7, 576)    2304        block_13_depthwise[0][0]         \n",
      "__________________________________________________________________________________________________\n",
      "block_13_depthwise_relu (ReLU)  (None, 7, 7, 576)    0           block_13_depthwise_BN[0][0]      \n",
      "__________________________________________________________________________________________________\n",
      "block_13_project (Conv2D)       (None, 7, 7, 160)    92160       block_13_depthwise_relu[0][0]    \n",
      "__________________________________________________________________________________________________\n",
      "block_13_project_BN (BatchNorma (None, 7, 7, 160)    640         block_13_project[0][0]           \n",
      "__________________________________________________________________________________________________\n",
      "block_14_expand (Conv2D)        (None, 7, 7, 960)    153600      block_13_project_BN[0][0]        \n",
      "__________________________________________________________________________________________________\n",
      "block_14_expand_BN (BatchNormal (None, 7, 7, 960)    3840        block_14_expand[0][0]            \n",
      "__________________________________________________________________________________________________\n",
      "block_14_expand_relu (ReLU)     (None, 7, 7, 960)    0           block_14_expand_BN[0][0]         \n",
      "__________________________________________________________________________________________________\n",
      "block_14_depthwise (DepthwiseCo (None, 7, 7, 960)    8640        block_14_expand_relu[0][0]       \n",
      "__________________________________________________________________________________________________\n",
      "block_14_depthwise_BN (BatchNor (None, 7, 7, 960)    3840        block_14_depthwise[0][0]         \n",
      "__________________________________________________________________________________________________\n",
      "block_14_depthwise_relu (ReLU)  (None, 7, 7, 960)    0           block_14_depthwise_BN[0][0]      \n",
      "__________________________________________________________________________________________________\n",
      "block_14_project (Conv2D)       (None, 7, 7, 160)    153600      block_14_depthwise_relu[0][0]    \n",
      "__________________________________________________________________________________________________\n",
      "block_14_project_BN (BatchNorma (None, 7, 7, 160)    640         block_14_project[0][0]           \n",
      "__________________________________________________________________________________________________\n",
      "block_14_add (Add)              (None, 7, 7, 160)    0           block_13_project_BN[0][0]        \n",
      "                                                                 block_14_project_BN[0][0]        \n",
      "__________________________________________________________________________________________________\n",
      "block_15_expand (Conv2D)        (None, 7, 7, 960)    153600      block_14_add[0][0]               \n",
      "__________________________________________________________________________________________________\n",
      "block_15_expand_BN (BatchNormal (None, 7, 7, 960)    3840        block_15_expand[0][0]            \n",
      "__________________________________________________________________________________________________\n",
      "block_15_expand_relu (ReLU)     (None, 7, 7, 960)    0           block_15_expand_BN[0][0]         \n",
      "__________________________________________________________________________________________________\n",
      "block_15_depthwise (DepthwiseCo (None, 7, 7, 960)    8640        block_15_expand_relu[0][0]       \n",
      "__________________________________________________________________________________________________\n",
      "block_15_depthwise_BN (BatchNor (None, 7, 7, 960)    3840        block_15_depthwise[0][0]         \n",
      "__________________________________________________________________________________________________\n",
      "block_15_depthwise_relu (ReLU)  (None, 7, 7, 960)    0           block_15_depthwise_BN[0][0]      \n",
      "__________________________________________________________________________________________________\n",
      "block_15_project (Conv2D)       (None, 7, 7, 160)    153600      block_15_depthwise_relu[0][0]    \n",
      "__________________________________________________________________________________________________\n",
      "block_15_project_BN (BatchNorma (None, 7, 7, 160)    640         block_15_project[0][0]           \n",
      "__________________________________________________________________________________________________\n",
      "block_15_add (Add)              (None, 7, 7, 160)    0           block_14_add[0][0]               \n",
      "                                                                 block_15_project_BN[0][0]        \n",
      "__________________________________________________________________________________________________\n",
      "block_16_expand (Conv2D)        (None, 7, 7, 960)    153600      block_15_add[0][0]               \n",
      "__________________________________________________________________________________________________\n",
      "block_16_expand_BN (BatchNormal (None, 7, 7, 960)    3840        block_16_expand[0][0]            \n",
      "__________________________________________________________________________________________________\n",
      "block_16_expand_relu (ReLU)     (None, 7, 7, 960)    0           block_16_expand_BN[0][0]         \n",
      "__________________________________________________________________________________________________\n",
      "block_16_depthwise (DepthwiseCo (None, 7, 7, 960)    8640        block_16_expand_relu[0][0]       \n",
      "__________________________________________________________________________________________________\n",
      "block_16_depthwise_BN (BatchNor (None, 7, 7, 960)    3840        block_16_depthwise[0][0]         \n",
      "__________________________________________________________________________________________________\n",
      "block_16_depthwise_relu (ReLU)  (None, 7, 7, 960)    0           block_16_depthwise_BN[0][0]      \n",
      "__________________________________________________________________________________________________\n",
      "block_16_project (Conv2D)       (None, 7, 7, 320)    307200      block_16_depthwise_relu[0][0]    \n",
      "__________________________________________________________________________________________________\n",
      "block_16_project_BN (BatchNorma (None, 7, 7, 320)    1280        block_16_project[0][0]           \n",
      "__________________________________________________________________________________________________\n",
      "Conv_1 (Conv2D)                 (None, 7, 7, 1280)   409600      block_16_project_BN[0][0]        \n",
      "__________________________________________________________________________________________________\n",
      "Conv_1_bn (BatchNormalization)  (None, 7, 7, 1280)   5120        Conv_1[0][0]                     \n",
      "__________________________________________________________________________________________________\n",
      "out_relu (ReLU)                 (None, 7, 7, 1280)   0           Conv_1_bn[0][0]                  \n",
      "__________________________________________________________________________________________________\n",
      "average_pooling2d (AveragePooli (None, 1, 1, 1280)   0           out_relu[0][0]                   \n",
      "__________________________________________________________________________________________________\n",
      "flatten (Flatten)               (None, 1280)         0           average_pooling2d[0][0]          \n",
      "__________________________________________________________________________________________________\n",
      "dense (Dense)                   (None, 128)          163968      flatten[0][0]                    \n",
      "__________________________________________________________________________________________________\n",
      "dropout (Dropout)               (None, 128)          0           dense[0][0]                      \n",
      "__________________________________________________________________________________________________\n",
      "dense_1 (Dense)                 (None, 2)            258         dropout[0][0]                    \n",
      "==================================================================================================\n",
      "Total params: 2,422,210\n",
      "Trainable params: 164,226\n",
      "Non-trainable params: 2,257,984\n",
      "__________________________________________________________________________________________________\n"
     ]
    }
   ],
   "source": [
    "model.summary()"
   ]
  },
  {
   "cell_type": "markdown",
   "metadata": {},
   "source": [
    "## Compiling the model\n",
    "\n",
    "We first define some arbitrary hyperparameters and a specific optimizer.\n",
    "\n",
    "The next step is to compile our model. It's here that we can set the loss, metrics and optimizer chosen."
   ]
  },
  {
   "cell_type": "code",
   "execution_count": 24,
   "metadata": {},
   "outputs": [],
   "source": [
    "from tensorflow.keras.optimizers import Adam\n",
    "\n",
    "INIT_LR = 1e-4\n",
    "EPOCHS = 100\n",
    "\n",
    "opt = Adam(lr=INIT_LR, decay=INIT_LR / EPOCHS)\n",
    "model.compile(loss=\"binary_crossentropy\", optimizer=opt,\n",
    "    metrics=[\"accuracy\"])"
   ]
  },
  {
   "cell_type": "markdown",
   "metadata": {},
   "source": [
    "## Training the model\n",
    "\n",
    "Let's start the training by using the ``fit`` method of our model. As arguments we simply specify a ``tf.Data`` train and validation sets and the number of epochs. "
   ]
  },
  {
   "cell_type": "code",
   "execution_count": 27,
   "metadata": {},
   "outputs": [
    {
     "name": "stdout",
     "output_type": "stream",
     "text": [
      "Epoch 1/100\n",
      "6/6 [==============================] - 7s 1s/step - loss: 0.9751 - accuracy: 0.4444 - val_loss: 1.2585 - val_accuracy: 0.2174\n",
      "Epoch 2/100\n",
      "6/6 [==============================] - 0s 53ms/step - loss: 0.7508 - accuracy: 0.5889 - val_loss: 1.0552 - val_accuracy: 0.2609\n",
      "Epoch 3/100\n",
      "6/6 [==============================] - 0s 52ms/step - loss: 0.7165 - accuracy: 0.5778 - val_loss: 0.9004 - val_accuracy: 0.3913\n",
      "Epoch 4/100\n",
      "6/6 [==============================] - 0s 50ms/step - loss: 0.5446 - accuracy: 0.6889 - val_loss: 0.8053 - val_accuracy: 0.4348\n",
      "Epoch 5/100\n",
      "6/6 [==============================] - 0s 51ms/step - loss: 0.4937 - accuracy: 0.7778 - val_loss: 0.7375 - val_accuracy: 0.5652\n",
      "Epoch 6/100\n",
      "6/6 [==============================] - 0s 51ms/step - loss: 0.4568 - accuracy: 0.8111 - val_loss: 0.6541 - val_accuracy: 0.6522\n",
      "Epoch 7/100\n",
      "6/6 [==============================] - 0s 50ms/step - loss: 0.3990 - accuracy: 0.7778 - val_loss: 0.5629 - val_accuracy: 0.6522\n",
      "Epoch 8/100\n",
      "6/6 [==============================] - 0s 51ms/step - loss: 0.3838 - accuracy: 0.8667 - val_loss: 0.5112 - val_accuracy: 0.6957\n",
      "Epoch 9/100\n",
      "6/6 [==============================] - 0s 49ms/step - loss: 0.3318 - accuracy: 0.8889 - val_loss: 0.4875 - val_accuracy: 0.6957\n",
      "Epoch 10/100\n",
      "6/6 [==============================] - 0s 52ms/step - loss: 0.2752 - accuracy: 0.9111 - val_loss: 0.4485 - val_accuracy: 0.7826\n",
      "Epoch 11/100\n",
      "6/6 [==============================] - 0s 50ms/step - loss: 0.2966 - accuracy: 0.8778 - val_loss: 0.4179 - val_accuracy: 0.7826\n",
      "Epoch 12/100\n",
      "6/6 [==============================] - 0s 50ms/step - loss: 0.2042 - accuracy: 0.9444 - val_loss: 0.3915 - val_accuracy: 0.7826\n",
      "Epoch 13/100\n",
      "6/6 [==============================] - 0s 50ms/step - loss: 0.2752 - accuracy: 0.8778 - val_loss: 0.3734 - val_accuracy: 0.8261\n",
      "Epoch 14/100\n",
      "6/6 [==============================] - 0s 50ms/step - loss: 0.1753 - accuracy: 0.9222 - val_loss: 0.3666 - val_accuracy: 0.8261\n",
      "Epoch 15/100\n",
      "6/6 [==============================] - 0s 50ms/step - loss: 0.2042 - accuracy: 0.9333 - val_loss: 0.3650 - val_accuracy: 0.8261\n",
      "Epoch 16/100\n",
      "6/6 [==============================] - 0s 50ms/step - loss: 0.1905 - accuracy: 0.9444 - val_loss: 0.3561 - val_accuracy: 0.8261\n",
      "Epoch 17/100\n",
      "6/6 [==============================] - 0s 51ms/step - loss: 0.1563 - accuracy: 0.9889 - val_loss: 0.3392 - val_accuracy: 0.8261\n",
      "Epoch 18/100\n",
      "6/6 [==============================] - 0s 50ms/step - loss: 0.1477 - accuracy: 0.9444 - val_loss: 0.3248 - val_accuracy: 0.8261\n",
      "Epoch 19/100\n",
      "6/6 [==============================] - 0s 51ms/step - loss: 0.1563 - accuracy: 0.9556 - val_loss: 0.3194 - val_accuracy: 0.8261\n",
      "Epoch 20/100\n",
      "6/6 [==============================] - 0s 50ms/step - loss: 0.1434 - accuracy: 0.9556 - val_loss: 0.3041 - val_accuracy: 0.8261\n",
      "Epoch 21/100\n",
      "6/6 [==============================] - 0s 50ms/step - loss: 0.1095 - accuracy: 0.9889 - val_loss: 0.3039 - val_accuracy: 0.8261\n",
      "Epoch 22/100\n",
      "6/6 [==============================] - 0s 50ms/step - loss: 0.1399 - accuracy: 0.9667 - val_loss: 0.3002 - val_accuracy: 0.8261\n",
      "Epoch 23/100\n",
      "6/6 [==============================] - 0s 50ms/step - loss: 0.1304 - accuracy: 0.9778 - val_loss: 0.3016 - val_accuracy: 0.8261\n",
      "Epoch 24/100\n",
      "6/6 [==============================] - 0s 50ms/step - loss: 0.1095 - accuracy: 0.9889 - val_loss: 0.2914 - val_accuracy: 0.8261\n",
      "Epoch 25/100\n",
      "6/6 [==============================] - 0s 50ms/step - loss: 0.0892 - accuracy: 1.0000 - val_loss: 0.2850 - val_accuracy: 0.8261\n",
      "Epoch 26/100\n",
      "6/6 [==============================] - 0s 50ms/step - loss: 0.1038 - accuracy: 0.9667 - val_loss: 0.2680 - val_accuracy: 0.8696\n",
      "Epoch 27/100\n",
      "6/6 [==============================] - 0s 50ms/step - loss: 0.1783 - accuracy: 0.9333 - val_loss: 0.2613 - val_accuracy: 0.8696\n",
      "Epoch 28/100\n",
      "6/6 [==============================] - 0s 50ms/step - loss: 0.0847 - accuracy: 0.9889 - val_loss: 0.2796 - val_accuracy: 0.8261\n",
      "Epoch 29/100\n",
      "6/6 [==============================] - 0s 50ms/step - loss: 0.1031 - accuracy: 0.9889 - val_loss: 0.2841 - val_accuracy: 0.8261\n",
      "Epoch 30/100\n",
      "6/6 [==============================] - 0s 50ms/step - loss: 0.0872 - accuracy: 0.9889 - val_loss: 0.2795 - val_accuracy: 0.8261\n",
      "Epoch 31/100\n",
      "6/6 [==============================] - 0s 50ms/step - loss: 0.0759 - accuracy: 0.9778 - val_loss: 0.2618 - val_accuracy: 0.8696\n",
      "Epoch 32/100\n",
      "6/6 [==============================] - 0s 50ms/step - loss: 0.0937 - accuracy: 0.9778 - val_loss: 0.2535 - val_accuracy: 0.9130\n",
      "Epoch 33/100\n",
      "6/6 [==============================] - 0s 50ms/step - loss: 0.1006 - accuracy: 0.9778 - val_loss: 0.2574 - val_accuracy: 0.8696\n",
      "Epoch 34/100\n",
      "6/6 [==============================] - 0s 50ms/step - loss: 0.0854 - accuracy: 0.9667 - val_loss: 0.2546 - val_accuracy: 0.8696\n",
      "Epoch 35/100\n",
      "6/6 [==============================] - 0s 50ms/step - loss: 0.1107 - accuracy: 0.9778 - val_loss: 0.2600 - val_accuracy: 0.8696\n",
      "Epoch 36/100\n",
      "6/6 [==============================] - 0s 49ms/step - loss: 0.0802 - accuracy: 0.9778 - val_loss: 0.2543 - val_accuracy: 0.8696\n",
      "Epoch 37/100\n",
      "6/6 [==============================] - 0s 50ms/step - loss: 0.0872 - accuracy: 0.9778 - val_loss: 0.2481 - val_accuracy: 0.9130\n",
      "Epoch 38/100\n",
      "6/6 [==============================] - 0s 51ms/step - loss: 0.0899 - accuracy: 0.9778 - val_loss: 0.2551 - val_accuracy: 0.9130\n",
      "Epoch 39/100\n",
      "6/6 [==============================] - 0s 50ms/step - loss: 0.0682 - accuracy: 0.9778 - val_loss: 0.2558 - val_accuracy: 0.9130\n",
      "Epoch 40/100\n",
      "6/6 [==============================] - 0s 50ms/step - loss: 0.1326 - accuracy: 0.9333 - val_loss: 0.2538 - val_accuracy: 0.9130\n",
      "Epoch 41/100\n",
      "6/6 [==============================] - 0s 50ms/step - loss: 0.0679 - accuracy: 0.9778 - val_loss: 0.2514 - val_accuracy: 0.9130\n",
      "Epoch 42/100\n",
      "6/6 [==============================] - 0s 50ms/step - loss: 0.0505 - accuracy: 1.0000 - val_loss: 0.2453 - val_accuracy: 0.9130\n",
      "Epoch 43/100\n",
      "6/6 [==============================] - 0s 49ms/step - loss: 0.0833 - accuracy: 0.9778 - val_loss: 0.2412 - val_accuracy: 0.9130\n",
      "Epoch 44/100\n",
      "6/6 [==============================] - 0s 50ms/step - loss: 0.0304 - accuracy: 1.0000 - val_loss: 0.2468 - val_accuracy: 0.9130\n",
      "Epoch 45/100\n",
      "6/6 [==============================] - 0s 50ms/step - loss: 0.0720 - accuracy: 0.9667 - val_loss: 0.2443 - val_accuracy: 0.9130\n",
      "Epoch 46/100\n",
      "6/6 [==============================] - 0s 49ms/step - loss: 0.0681 - accuracy: 0.9778 - val_loss: 0.2551 - val_accuracy: 0.9130\n",
      "Epoch 47/100\n",
      "6/6 [==============================] - 0s 49ms/step - loss: 0.0236 - accuracy: 1.0000 - val_loss: 0.2581 - val_accuracy: 0.9130\n",
      "Epoch 48/100\n",
      "6/6 [==============================] - 0s 50ms/step - loss: 0.0400 - accuracy: 1.0000 - val_loss: 0.2533 - val_accuracy: 0.9130\n",
      "Epoch 49/100\n",
      "6/6 [==============================] - 0s 49ms/step - loss: 0.0476 - accuracy: 0.9889 - val_loss: 0.2411 - val_accuracy: 0.9130\n",
      "Epoch 50/100\n",
      "6/6 [==============================] - 0s 50ms/step - loss: 0.0761 - accuracy: 0.9889 - val_loss: 0.2414 - val_accuracy: 0.9130\n",
      "Epoch 51/100\n",
      "6/6 [==============================] - 0s 50ms/step - loss: 0.1125 - accuracy: 0.9556 - val_loss: 0.2411 - val_accuracy: 0.9130\n",
      "Epoch 52/100\n",
      "6/6 [==============================] - 0s 49ms/step - loss: 0.0630 - accuracy: 0.9889 - val_loss: 0.2227 - val_accuracy: 0.9130\n",
      "Epoch 53/100\n",
      "6/6 [==============================] - 0s 50ms/step - loss: 0.0335 - accuracy: 1.0000 - val_loss: 0.2132 - val_accuracy: 0.9130\n",
      "Epoch 54/100\n",
      "6/6 [==============================] - 0s 49ms/step - loss: 0.0423 - accuracy: 0.9889 - val_loss: 0.2119 - val_accuracy: 0.9130\n",
      "Epoch 55/100\n",
      "6/6 [==============================] - 0s 52ms/step - loss: 0.0381 - accuracy: 1.0000 - val_loss: 0.2152 - val_accuracy: 0.9130\n",
      "Epoch 56/100\n",
      "6/6 [==============================] - 0s 51ms/step - loss: 0.0543 - accuracy: 0.9889 - val_loss: 0.2207 - val_accuracy: 0.9130\n",
      "Epoch 57/100\n",
      "6/6 [==============================] - 0s 49ms/step - loss: 0.0582 - accuracy: 0.9667 - val_loss: 0.2435 - val_accuracy: 0.9130\n",
      "Epoch 58/100\n",
      "6/6 [==============================] - 0s 51ms/step - loss: 0.0620 - accuracy: 0.9778 - val_loss: 0.2728 - val_accuracy: 0.8696\n",
      "Epoch 59/100\n"
     ]
    },
    {
     "name": "stdout",
     "output_type": "stream",
     "text": [
      "6/6 [==============================] - 0s 49ms/step - loss: 0.1430 - accuracy: 0.9444 - val_loss: 0.2514 - val_accuracy: 0.9130\n",
      "Epoch 60/100\n",
      "6/6 [==============================] - 0s 50ms/step - loss: 0.1144 - accuracy: 0.9667 - val_loss: 0.2362 - val_accuracy: 0.9130\n",
      "Epoch 61/100\n",
      "6/6 [==============================] - 0s 50ms/step - loss: 0.0363 - accuracy: 0.9889 - val_loss: 0.2136 - val_accuracy: 0.9130\n",
      "Epoch 62/100\n",
      "6/6 [==============================] - 0s 50ms/step - loss: 0.0496 - accuracy: 0.9778 - val_loss: 0.2135 - val_accuracy: 0.9130\n",
      "Epoch 63/100\n",
      "6/6 [==============================] - 0s 49ms/step - loss: 0.0287 - accuracy: 1.0000 - val_loss: 0.2168 - val_accuracy: 0.9130\n",
      "Epoch 64/100\n",
      "6/6 [==============================] - 0s 50ms/step - loss: 0.0297 - accuracy: 1.0000 - val_loss: 0.2215 - val_accuracy: 0.9130\n",
      "Epoch 65/100\n",
      "6/6 [==============================] - 0s 51ms/step - loss: 0.0364 - accuracy: 1.0000 - val_loss: 0.2238 - val_accuracy: 0.9130\n",
      "Epoch 66/100\n",
      "6/6 [==============================] - 0s 50ms/step - loss: 0.0887 - accuracy: 0.9444 - val_loss: 0.2455 - val_accuracy: 0.9130\n",
      "Epoch 67/100\n",
      "6/6 [==============================] - 0s 50ms/step - loss: 0.0270 - accuracy: 1.0000 - val_loss: 0.2514 - val_accuracy: 0.9130\n",
      "Epoch 68/100\n",
      "6/6 [==============================] - 0s 50ms/step - loss: 0.0380 - accuracy: 0.9889 - val_loss: 0.2424 - val_accuracy: 0.9130\n",
      "Epoch 69/100\n",
      "6/6 [==============================] - 0s 50ms/step - loss: 0.0261 - accuracy: 1.0000 - val_loss: 0.2357 - val_accuracy: 0.9130\n",
      "Epoch 70/100\n",
      "6/6 [==============================] - 0s 50ms/step - loss: 0.1350 - accuracy: 0.9778 - val_loss: 0.2267 - val_accuracy: 0.9130\n",
      "Epoch 71/100\n",
      "6/6 [==============================] - 0s 50ms/step - loss: 0.0204 - accuracy: 1.0000 - val_loss: 0.2076 - val_accuracy: 0.9130\n",
      "Epoch 72/100\n",
      "6/6 [==============================] - 0s 50ms/step - loss: 0.0310 - accuracy: 1.0000 - val_loss: 0.2041 - val_accuracy: 0.9130\n",
      "Epoch 73/100\n",
      "6/6 [==============================] - 0s 50ms/step - loss: 0.0402 - accuracy: 1.0000 - val_loss: 0.2053 - val_accuracy: 0.9130\n",
      "Epoch 74/100\n",
      "6/6 [==============================] - 0s 51ms/step - loss: 0.0196 - accuracy: 1.0000 - val_loss: 0.2125 - val_accuracy: 0.9130\n",
      "Epoch 75/100\n",
      "6/6 [==============================] - 0s 50ms/step - loss: 0.0236 - accuracy: 0.9889 - val_loss: 0.2175 - val_accuracy: 0.9130\n",
      "Epoch 76/100\n",
      "6/6 [==============================] - 0s 49ms/step - loss: 0.0209 - accuracy: 1.0000 - val_loss: 0.2183 - val_accuracy: 0.9130\n",
      "Epoch 77/100\n",
      "6/6 [==============================] - 0s 50ms/step - loss: 0.0175 - accuracy: 1.0000 - val_loss: 0.2196 - val_accuracy: 0.9130\n",
      "Epoch 78/100\n",
      "6/6 [==============================] - 0s 49ms/step - loss: 0.0335 - accuracy: 1.0000 - val_loss: 0.2272 - val_accuracy: 0.9130\n",
      "Epoch 79/100\n",
      "6/6 [==============================] - 0s 49ms/step - loss: 0.1184 - accuracy: 0.9667 - val_loss: 0.2308 - val_accuracy: 0.9130\n",
      "Epoch 80/100\n",
      "6/6 [==============================] - 0s 51ms/step - loss: 0.0218 - accuracy: 1.0000 - val_loss: 0.2136 - val_accuracy: 0.9130\n",
      "Epoch 81/100\n",
      "6/6 [==============================] - 0s 50ms/step - loss: 0.0108 - accuracy: 1.0000 - val_loss: 0.2079 - val_accuracy: 0.9130\n",
      "Epoch 82/100\n",
      "6/6 [==============================] - 0s 51ms/step - loss: 0.0305 - accuracy: 1.0000 - val_loss: 0.2075 - val_accuracy: 0.9130\n",
      "Epoch 83/100\n",
      "6/6 [==============================] - 0s 50ms/step - loss: 0.0235 - accuracy: 1.0000 - val_loss: 0.2116 - val_accuracy: 0.9130\n",
      "Epoch 84/100\n",
      "6/6 [==============================] - 0s 49ms/step - loss: 0.0514 - accuracy: 0.9889 - val_loss: 0.2136 - val_accuracy: 0.9130\n",
      "Epoch 85/100\n",
      "6/6 [==============================] - 0s 50ms/step - loss: 0.0285 - accuracy: 1.0000 - val_loss: 0.2121 - val_accuracy: 0.9130\n",
      "Epoch 86/100\n",
      "6/6 [==============================] - 0s 50ms/step - loss: 0.0497 - accuracy: 0.9889 - val_loss: 0.2092 - val_accuracy: 0.9130\n",
      "Epoch 87/100\n",
      "6/6 [==============================] - 0s 50ms/step - loss: 0.0301 - accuracy: 1.0000 - val_loss: 0.2077 - val_accuracy: 0.9130\n",
      "Epoch 88/100\n",
      "6/6 [==============================] - 0s 50ms/step - loss: 0.0354 - accuracy: 0.9889 - val_loss: 0.2104 - val_accuracy: 0.9130\n",
      "Epoch 89/100\n",
      "6/6 [==============================] - 0s 50ms/step - loss: 0.0503 - accuracy: 0.9778 - val_loss: 0.2138 - val_accuracy: 0.9130\n",
      "Epoch 90/100\n",
      "6/6 [==============================] - 0s 50ms/step - loss: 0.0194 - accuracy: 1.0000 - val_loss: 0.2207 - val_accuracy: 0.9130\n",
      "Epoch 91/100\n",
      "6/6 [==============================] - 0s 50ms/step - loss: 0.0140 - accuracy: 1.0000 - val_loss: 0.2242 - val_accuracy: 0.9130\n",
      "Epoch 92/100\n",
      "6/6 [==============================] - 0s 49ms/step - loss: 0.0309 - accuracy: 1.0000 - val_loss: 0.2418 - val_accuracy: 0.9130\n",
      "Epoch 93/100\n",
      "6/6 [==============================] - 0s 50ms/step - loss: 0.0178 - accuracy: 1.0000 - val_loss: 0.2463 - val_accuracy: 0.9130\n",
      "Epoch 94/100\n",
      "6/6 [==============================] - 0s 50ms/step - loss: 0.0604 - accuracy: 0.9889 - val_loss: 0.2398 - val_accuracy: 0.9130\n",
      "Epoch 95/100\n",
      "6/6 [==============================] - 0s 50ms/step - loss: 0.0125 - accuracy: 1.0000 - val_loss: 0.2164 - val_accuracy: 0.9130\n",
      "Epoch 96/100\n",
      "6/6 [==============================] - 0s 50ms/step - loss: 0.0213 - accuracy: 1.0000 - val_loss: 0.2103 - val_accuracy: 0.9130\n",
      "Epoch 97/100\n",
      "6/6 [==============================] - 0s 50ms/step - loss: 0.0113 - accuracy: 1.0000 - val_loss: 0.2110 - val_accuracy: 0.9130\n",
      "Epoch 98/100\n",
      "6/6 [==============================] - 0s 50ms/step - loss: 0.0885 - accuracy: 0.9667 - val_loss: 0.2105 - val_accuracy: 0.9130\n",
      "Epoch 99/100\n",
      "6/6 [==============================] - 0s 50ms/step - loss: 0.0106 - accuracy: 1.0000 - val_loss: 0.2138 - val_accuracy: 0.9130\n",
      "Epoch 100/100\n",
      "6/6 [==============================] - 0s 50ms/step - loss: 0.0190 - accuracy: 1.0000 - val_loss: 0.2163 - val_accuracy: 0.9130\n"
     ]
    }
   ],
   "source": [
    "History = model.fit(train_set,\n",
    "    validation_data=eval_set,\n",
    "    epochs=EPOCHS)"
   ]
  },
  {
   "cell_type": "markdown",
   "metadata": {},
   "source": [
    "# Saving\n",
    "\n",
    "### Training logs\n",
    "\n",
    "By default the fit method of a model returns a ```tf.keras.callbacks.History``` object which has some base logs from the training. We want to send those logs to the platform to see them on the dashboard. \n"
   ]
  },
  {
   "cell_type": "code",
   "execution_count": 39,
   "metadata": {
    "scrolled": true
   },
   "outputs": [
    {
     "name": "stdout",
     "output_type": "stream",
     "text": [
      "Training logs have been sent to Picsell.ia Platform...\n",
      "You can now inspect and showcase results on the platform.\n"
     ]
    }
   ],
   "source": [
    "logs = {k:{\"step\": [str(e) for e in History.epoch], \"value\":[str(round(val, 3)) for val in v] } for k,v in History.history.items()}\n",
    "clt.send_logs(logs)"
   ]
  },
  {
   "cell_type": "markdown",
   "metadata": {},
   "source": [
    "This will create and send a dictionnary containing the logs in the right format for the platform to display them. \n",
    "\n",
    "### Checkpoint\n",
    "\n",
    "We want to save a checkpoint of our model to, for example, continue the training later. To do this we want to create a ```Checkpoint``` object with our model and optimizer and save it."
   ]
  },
  {
   "cell_type": "code",
   "execution_count": 40,
   "metadata": {},
   "outputs": [
    {
     "ename": "FileNotFoundError",
     "evalue": "No config file found",
     "output_type": "error",
     "traceback": [
      "\u001b[0;31m---------------------------------------------------------------------------\u001b[0m",
      "\u001b[0;31mFileNotFoundError\u001b[0m                         Traceback (most recent call last)",
      "\u001b[0;32m<ipython-input-40-4fdb8d560a74>\u001b[0m in \u001b[0;36m<module>\u001b[0;34m\u001b[0m\n\u001b[1;32m      1\u001b[0m \u001b[0mcheckpoint\u001b[0m \u001b[0;34m=\u001b[0m \u001b[0mtf\u001b[0m\u001b[0;34m.\u001b[0m\u001b[0mtrain\u001b[0m\u001b[0;34m.\u001b[0m\u001b[0mCheckpoint\u001b[0m\u001b[0;34m(\u001b[0m\u001b[0moptimizer\u001b[0m\u001b[0;34m=\u001b[0m\u001b[0mopt\u001b[0m\u001b[0;34m,\u001b[0m \u001b[0mmodel\u001b[0m\u001b[0;34m=\u001b[0m\u001b[0mmodel\u001b[0m\u001b[0;34m)\u001b[0m\u001b[0;34m\u001b[0m\u001b[0;34m\u001b[0m\u001b[0m\n\u001b[1;32m      2\u001b[0m \u001b[0mcheckpoint\u001b[0m\u001b[0;34m.\u001b[0m\u001b[0msave\u001b[0m\u001b[0;34m(\u001b[0m\u001b[0mos\u001b[0m\u001b[0;34m.\u001b[0m\u001b[0mpath\u001b[0m\u001b[0;34m.\u001b[0m\u001b[0mjoin\u001b[0m\u001b[0;34m(\u001b[0m\u001b[0mclt\u001b[0m\u001b[0;34m.\u001b[0m\u001b[0mcheckpoint_dir\u001b[0m\u001b[0;34m,\u001b[0m \u001b[0;34m\"model.ckpt\"\u001b[0m\u001b[0;34m)\u001b[0m\u001b[0;34m)\u001b[0m\u001b[0;34m\u001b[0m\u001b[0;34m\u001b[0m\u001b[0m\n\u001b[0;32m----> 3\u001b[0;31m \u001b[0mclt\u001b[0m\u001b[0;34m.\u001b[0m\u001b[0msend_checkpoints\u001b[0m\u001b[0;34m(\u001b[0m\u001b[0;34m)\u001b[0m\u001b[0;34m\u001b[0m\u001b[0;34m\u001b[0m\u001b[0m\n\u001b[0m",
      "\u001b[0;32m~/anaconda3/envs/tensorflow2_p36/lib/python3.6/site-packages/picsellia/Client.py\u001b[0m in \u001b[0;36msend_checkpoints\u001b[0;34m(self, index_path, data_path, config_path)\u001b[0m\n\u001b[1;32m    860\u001b[0m             \u001b[0;32mif\u001b[0m \u001b[0mself\u001b[0m\u001b[0;34m.\u001b[0m\u001b[0mproject_type\u001b[0m \u001b[0;34m!=\u001b[0m \u001b[0;34m\"classification\"\u001b[0m\u001b[0;34m:\u001b[0m\u001b[0;34m\u001b[0m\u001b[0;34m\u001b[0m\u001b[0m\n\u001b[1;32m    861\u001b[0m                 \u001b[0;32mif\u001b[0m \u001b[0;32mnot\u001b[0m \u001b[0mos\u001b[0m\u001b[0;34m.\u001b[0m\u001b[0mpath\u001b[0m\u001b[0;34m.\u001b[0m\u001b[0misfile\u001b[0m\u001b[0;34m(\u001b[0m\u001b[0mos\u001b[0m\u001b[0;34m.\u001b[0m\u001b[0mpath\u001b[0m\u001b[0;34m.\u001b[0m\u001b[0mjoin\u001b[0m\u001b[0;34m(\u001b[0m\u001b[0mself\u001b[0m\u001b[0;34m.\u001b[0m\u001b[0mcheckpoint_dir\u001b[0m\u001b[0;34m,\u001b[0m \u001b[0;34m\"pipeline.config\"\u001b[0m\u001b[0;34m)\u001b[0m\u001b[0;34m)\u001b[0m\u001b[0;34m:\u001b[0m\u001b[0;34m\u001b[0m\u001b[0;34m\u001b[0m\u001b[0m\n\u001b[0;32m--> 862\u001b[0;31m                     \u001b[0;32mraise\u001b[0m \u001b[0mFileNotFoundError\u001b[0m\u001b[0;34m(\u001b[0m\u001b[0;34m\"No config file found\"\u001b[0m\u001b[0;34m)\u001b[0m\u001b[0;34m\u001b[0m\u001b[0;34m\u001b[0m\u001b[0m\n\u001b[0m\u001b[1;32m    863\u001b[0m                 \u001b[0mconfig_object\u001b[0m \u001b[0;34m=\u001b[0m \u001b[0mos\u001b[0m\u001b[0;34m.\u001b[0m\u001b[0mpath\u001b[0m\u001b[0;34m.\u001b[0m\u001b[0mjoin\u001b[0m\u001b[0;34m(\u001b[0m\u001b[0mself\u001b[0m\u001b[0;34m.\u001b[0m\u001b[0mcheckpoint_dir\u001b[0m\u001b[0;34m,\u001b[0m \u001b[0;34m\"pipeline.config\"\u001b[0m\u001b[0;34m)\u001b[0m\u001b[0;34m\u001b[0m\u001b[0;34m\u001b[0m\u001b[0m\n\u001b[1;32m    864\u001b[0m                 \u001b[0mconfig_path\u001b[0m \u001b[0;34m=\u001b[0m \u001b[0mconfig_object\u001b[0m\u001b[0;34m\u001b[0m\u001b[0;34m\u001b[0m\u001b[0m\n",
      "\u001b[0;31mFileNotFoundError\u001b[0m: No config file found"
     ]
    }
   ],
   "source": [
    "checkpoint = tf.train.Checkpoint(optimizer=opt, model=model)\n",
    "checkpoint.save(os.path.join(clt.checkpoint_dir, \"model.ckpt\"))\n",
    "clt.send_checkpoints()"
   ]
  },
  {
   "cell_type": "markdown",
   "metadata": {},
   "source": [
    "### Model\n",
    "\n",
    "Saving a checkpoint is nice but mostly useful for future trainings. To directly save the model we simply need to apply the ```save``` method to our model and specify the directory."
   ]
  },
  {
   "cell_type": "code",
   "execution_count": 42,
   "metadata": {},
   "outputs": [
    {
     "name": "stdout",
     "output_type": "stream",
     "text": [
      "WARNING:tensorflow:From /home/ubuntu/anaconda3/envs/tensorflow2_p36/lib/python3.6/site-packages/tensorflow_core/python/ops/resource_variable_ops.py:1786: calling BaseResourceVariable.__init__ (from tensorflow.python.ops.resource_variable_ops) with constraint is deprecated and will be removed in a future version.\n",
      "Instructions for updating:\n",
      "If using Keras pass *_constraint arguments to layers.\n",
      "INFO:tensorflow:Assets written to: mask-classification/Classification_COVID_Masks/0/exported_model/assets\n"
     ]
    },
    {
     "ename": "NetworkError",
     "evalue": "Impossible to upload frozen graph to Picsell.ia backend",
     "output_type": "error",
     "traceback": [
      "\u001b[0;31m---------------------------------------------------------------------------\u001b[0m",
      "\u001b[0;31mFileNotFoundError\u001b[0m                         Traceback (most recent call last)",
      "\u001b[0;32m~/anaconda3/envs/tensorflow2_p36/lib/python3.6/site-packages/picsellia/Client.py\u001b[0m in \u001b[0;36m_upload_part\u001b[0;34m(self, file_path)\u001b[0m\n\u001b[1;32m   1120\u001b[0m             \u001b[0murls\u001b[0m \u001b[0;34m=\u001b[0m \u001b[0;34m[\u001b[0m\u001b[0;34m]\u001b[0m\u001b[0;34m\u001b[0m\u001b[0;34m\u001b[0m\u001b[0m\n\u001b[0;32m-> 1121\u001b[0;31m             \u001b[0mfile_size\u001b[0m \u001b[0;34m=\u001b[0m \u001b[0mos\u001b[0m\u001b[0;34m.\u001b[0m\u001b[0mpath\u001b[0m\u001b[0;34m.\u001b[0m\u001b[0mgetsize\u001b[0m\u001b[0;34m(\u001b[0m\u001b[0mfile_path\u001b[0m\u001b[0;34m)\u001b[0m\u001b[0;34m\u001b[0m\u001b[0;34m\u001b[0m\u001b[0m\n\u001b[0m\u001b[1;32m   1122\u001b[0m             \u001b[0mupload_by\u001b[0m \u001b[0;34m=\u001b[0m \u001b[0mint\u001b[0m\u001b[0;34m(\u001b[0m\u001b[0mfile_size\u001b[0m \u001b[0;34m/\u001b[0m \u001b[0mmax_size\u001b[0m\u001b[0;34m)\u001b[0m \u001b[0;34m+\u001b[0m \u001b[0;36m1\u001b[0m\u001b[0;34m\u001b[0m\u001b[0;34m\u001b[0m\u001b[0m\n",
      "\u001b[0;32m~/anaconda3/envs/tensorflow2_p36/lib/python3.6/genericpath.py\u001b[0m in \u001b[0;36mgetsize\u001b[0;34m(filename)\u001b[0m\n\u001b[1;32m     49\u001b[0m     \u001b[0;34m\"\"\"Return the size of a file, reported by os.stat().\"\"\"\u001b[0m\u001b[0;34m\u001b[0m\u001b[0;34m\u001b[0m\u001b[0m\n\u001b[0;32m---> 50\u001b[0;31m     \u001b[0;32mreturn\u001b[0m \u001b[0mos\u001b[0m\u001b[0;34m.\u001b[0m\u001b[0mstat\u001b[0m\u001b[0;34m(\u001b[0m\u001b[0mfilename\u001b[0m\u001b[0;34m)\u001b[0m\u001b[0;34m.\u001b[0m\u001b[0mst_size\u001b[0m\u001b[0;34m\u001b[0m\u001b[0;34m\u001b[0m\u001b[0m\n\u001b[0m\u001b[1;32m     51\u001b[0m \u001b[0;34m\u001b[0m\u001b[0m\n",
      "\u001b[0;31mFileNotFoundError\u001b[0m: [Errno 2] No such file or directory: 'mask-classification/Classification_COVID_Masks/0/exported_model/saved_model/saved_model.pb'",
      "\nDuring handling of the above exception, another exception occurred:\n",
      "\u001b[0;31mNetworkError\u001b[0m                              Traceback (most recent call last)",
      "\u001b[0;32m<ipython-input-42-575361a2f81e>\u001b[0m in \u001b[0;36m<module>\u001b[0;34m\u001b[0m\n\u001b[1;32m      1\u001b[0m \u001b[0mmodel\u001b[0m\u001b[0;34m.\u001b[0m\u001b[0msave\u001b[0m\u001b[0;34m(\u001b[0m\u001b[0mclt\u001b[0m\u001b[0;34m.\u001b[0m\u001b[0mexported_model_dir\u001b[0m\u001b[0;34m)\u001b[0m\u001b[0;34m\u001b[0m\u001b[0;34m\u001b[0m\u001b[0m\n\u001b[0;32m----> 2\u001b[0;31m \u001b[0mclt\u001b[0m\u001b[0;34m.\u001b[0m\u001b[0msend_model\u001b[0m\u001b[0;34m(\u001b[0m\u001b[0;34m)\u001b[0m\u001b[0;34m\u001b[0m\u001b[0;34m\u001b[0m\u001b[0m\n\u001b[0m",
      "\u001b[0;32m~/anaconda3/envs/tensorflow2_p36/lib/python3.6/site-packages/picsellia/Client.py\u001b[0m in \u001b[0;36msend_model\u001b[0;34m(self, file_path)\u001b[0m\n\u001b[1;32m    805\u001b[0m             \u001b[0mself\u001b[0m\u001b[0;34m.\u001b[0m\u001b[0mOBJECT_NAME\u001b[0m \u001b[0;34m=\u001b[0m \u001b[0mos\u001b[0m\u001b[0;34m.\u001b[0m\u001b[0mpath\u001b[0m\u001b[0;34m.\u001b[0m\u001b[0mjoin\u001b[0m\u001b[0;34m(\u001b[0m\u001b[0mself\u001b[0m\u001b[0;34m.\u001b[0m\u001b[0mnetwork_id\u001b[0m\u001b[0;34m,\u001b[0m \u001b[0mstr\u001b[0m\u001b[0;34m(\u001b[0m\u001b[0mself\u001b[0m\u001b[0;34m.\u001b[0m\u001b[0mtraining_id\u001b[0m\u001b[0;34m)\u001b[0m\u001b[0;34m,\u001b[0m\u001b[0;34m'saved_model.pb'\u001b[0m\u001b[0;34m)\u001b[0m\u001b[0;34m\u001b[0m\u001b[0;34m\u001b[0m\u001b[0m\n\u001b[1;32m    806\u001b[0m         \u001b[0mself\u001b[0m\u001b[0;34m.\u001b[0m\u001b[0m_init_multipart\u001b[0m\u001b[0;34m(\u001b[0m\u001b[0;34m)\u001b[0m\u001b[0;34m\u001b[0m\u001b[0;34m\u001b[0m\u001b[0m\n\u001b[0;32m--> 807\u001b[0;31m         \u001b[0mparts\u001b[0m \u001b[0;34m=\u001b[0m \u001b[0mself\u001b[0m\u001b[0;34m.\u001b[0m\u001b[0m_upload_part\u001b[0m\u001b[0;34m(\u001b[0m\u001b[0mfile_path\u001b[0m\u001b[0;34m)\u001b[0m\u001b[0;34m\u001b[0m\u001b[0;34m\u001b[0m\u001b[0m\n\u001b[0m\u001b[1;32m    808\u001b[0m \u001b[0;34m\u001b[0m\u001b[0m\n\u001b[1;32m    809\u001b[0m         \u001b[0;32mif\u001b[0m \u001b[0mself\u001b[0m\u001b[0;34m.\u001b[0m\u001b[0m_complete_part_upload\u001b[0m\u001b[0;34m(\u001b[0m\u001b[0mparts\u001b[0m\u001b[0;34m,\u001b[0m \u001b[0mself\u001b[0m\u001b[0;34m.\u001b[0m\u001b[0mOBJECT_NAME\u001b[0m\u001b[0;34m,\u001b[0m \u001b[0;34m'model'\u001b[0m\u001b[0;34m)\u001b[0m\u001b[0;34m:\u001b[0m\u001b[0;34m\u001b[0m\u001b[0;34m\u001b[0m\u001b[0m\n",
      "\u001b[0;32m~/anaconda3/envs/tensorflow2_p36/lib/python3.6/site-packages/picsellia/Client.py\u001b[0m in \u001b[0;36m_upload_part\u001b[0;34m(self, file_path)\u001b[0m\n\u001b[1;32m   1142\u001b[0m                 \u001b[0;32mreturn\u001b[0m \u001b[0mparts\u001b[0m\u001b[0;34m\u001b[0m\u001b[0;34m\u001b[0m\u001b[0m\n\u001b[1;32m   1143\u001b[0m         \u001b[0;32mexcept\u001b[0m\u001b[0;34m:\u001b[0m\u001b[0;34m\u001b[0m\u001b[0;34m\u001b[0m\u001b[0m\n\u001b[0;32m-> 1144\u001b[0;31m             \u001b[0;32mraise\u001b[0m \u001b[0mNetworkError\u001b[0m\u001b[0;34m(\u001b[0m\u001b[0;34m\"Impossible to upload frozen graph to Picsell.ia backend\"\u001b[0m\u001b[0;34m)\u001b[0m\u001b[0;34m\u001b[0m\u001b[0;34m\u001b[0m\u001b[0m\n\u001b[0m\u001b[1;32m   1145\u001b[0m \u001b[0;34m\u001b[0m\u001b[0m\n\u001b[1;32m   1146\u001b[0m     \u001b[0;32mdef\u001b[0m \u001b[0m_complete_part_upload\u001b[0m\u001b[0;34m(\u001b[0m\u001b[0mself\u001b[0m\u001b[0;34m,\u001b[0m \u001b[0mparts\u001b[0m\u001b[0;34m,\u001b[0m \u001b[0mobject_name\u001b[0m\u001b[0;34m,\u001b[0m \u001b[0mfile_type\u001b[0m\u001b[0;34m)\u001b[0m\u001b[0;34m:\u001b[0m\u001b[0;34m\u001b[0m\u001b[0;34m\u001b[0m\u001b[0m\n",
      "\u001b[0;31mNetworkError\u001b[0m: Impossible to upload frozen graph to Picsell.ia backend"
     ]
    }
   ],
   "source": [
    "model.save(clt.exported_model_dir)\n",
    "clt.send_model()"
   ]
  },
  {
   "cell_type": "code",
   "execution_count": null,
   "metadata": {},
   "outputs": [],
   "source": []
  }
 ],
 "metadata": {
  "kernelspec": {
   "display_name": "Environment (conda_tensorflow2_p36)",
   "language": "python",
   "name": "conda_tensorflow2_p36"
  },
  "language_info": {
   "codemirror_mode": {
    "name": "ipython",
    "version": 3
   },
   "file_extension": ".py",
   "mimetype": "text/x-python",
   "name": "python",
   "nbconvert_exporter": "python",
   "pygments_lexer": "ipython3",
   "version": "3.6.10"
  }
 },
 "nbformat": 4,
 "nbformat_minor": 4
}
